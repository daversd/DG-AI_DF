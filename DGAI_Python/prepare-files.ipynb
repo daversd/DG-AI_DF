{
 "cells": [
  {
   "cell_type": "markdown",
   "metadata": {},
   "source": [
    "## Prepare training set files\n",
    "In order to train (and test) correctly, your data set must be organised according to the following criterea:\n",
    "- You need to have, inside your main folder, a folder named AB. For instance: `myTrainingSet/AB` or `data/myTrainingSet/AB`\n",
    "- Inside your `AB` folder, you also need two folders, one named `train` and another one named `test`. For instance: `myTrainingSet/AB/train` and `myTrainingSet/AB/test`\n",
    "- Every image inside the `AB` folder must be a combination of an input (`A`) and an output (`B`) images, each with size `256x256 px`. This means that the resulting `AB` images must be `512x256 px` in size.\n",
    "- For combining images, you must have an `A` folder containing `256x256 px` images, and a `B` with output images with corresponding names and sizes. For instance, if `myTrainingSet/A/img_0.png` exists, `myTrainingSet/B/img_0.png`must also exist."
   ]
  },
  {
   "cell_type": "code",
   "execution_count": 1,
   "metadata": {},
   "outputs": [],
   "source": [
    "# Import the packages\n",
    "import os\n",
    "from pix2pix_helpers.combine_images import combine_images\n",
    "from pix2pix_helpers.create_train_test import create_train_test\n",
    "from pix2pix_helpers.fix_names import fix_names\n",
    "from pix2pix_helpers.resize_image import scale_down, scale_up"
   ]
  },
  {
   "cell_type": "markdown",
   "metadata": {},
   "source": [
    "### Training set preparation options"
   ]
  },
  {
   "cell_type": "code",
   "execution_count": 2,
   "metadata": {},
   "outputs": [],
   "source": [
    "# The main folder\n",
    "FOLDER = os.path.realpath('data/tracos')\n",
    "\n",
    "# What do you want to do?\n",
    "RESIZE = False\n",
    "RESIZE_FACTOR = 2\n",
    "RESIZE_FOLDER = FOLDER\n",
    "\n",
    "FIX_NAMES = False\n",
    "FIX_FOLDER = ''\n",
    "FIX_TARGET = ''\n",
    "\n",
    "COMBINE_IMAGES = True\n",
    "COMBINE_A = os.path.join(FOLDER, 'A')\n",
    "COMBINE_B = os.path.join(FOLDER, 'B')\n",
    "COMBINE_AB = os.path.join(FOLDER, 'AB')\n",
    "\n",
    "CREATE_TEST_TRAIN = True\n",
    "CREATE_TT_SOURCE = COMBINE_AB\n",
    "CREATE_TT_TCOUNT = 10"
   ]
  },
  {
   "cell_type": "code",
   "execution_count": 3,
   "metadata": {},
   "outputs": [
    {
     "name": "stdout",
     "output_type": "stream",
     "text": [
      "Combining images from D:\\Repositories\\Personal\\DG-AI_DF\\DGAI_Python\\data\\tracos\\A and D:\\Repositories\\Personal\\DG-AI_DF\\DGAI_Python\\data\\tracos\\B into D:\\Repositories\\Personal\\DG-AI_DF\\DGAI_Python\\data\\tracos\\AB\n"
     ]
    },
    {
     "name": "stderr",
     "output_type": "stream",
     "text": [
      "100%|██████████| 201/201 [00:04<00:00, 41.89it/s]\n"
     ]
    },
    {
     "name": "stdout",
     "output_type": "stream",
     "text": [
      "Creating test and train folders on D:\\Repositories\\Personal\\DG-AI_DF\\DGAI_Python\\data\\tracos\\AB\n"
     ]
    },
    {
     "name": "stderr",
     "output_type": "stream",
     "text": [
      "100%|██████████| 201/201 [00:00<00:00, 1605.60it/s]\n"
     ]
    }
   ],
   "source": [
    "if RESIZE:\n",
    "    if RESIZE_FACTOR > 0:\n",
    "        scale_up(RESIZE_FOLDER, RESIZE_FACTOR)\n",
    "    else:\n",
    "        scale_down(RESIZE_FOLDER, -RESIZE_FACTOR)\n",
    "\n",
    "if FIX_NAMES:\n",
    "    fix_names(FIX_FOLDER, FIX_TARGET)\n",
    "\n",
    "if COMBINE_IMAGES:\n",
    "    combine_images(COMBINE_A, COMBINE_B, COMBINE_AB)\n",
    "\n",
    "if CREATE_TEST_TRAIN:\n",
    "    create_train_test(CREATE_TT_SOURCE, CREATE_TT_TCOUNT)"
   ]
  }
 ],
 "metadata": {
  "interpreter": {
   "hash": "e71fdd7c552fe95a1eacb854f1b10e9ecb90034276b5430645f7c41b103f00ef"
  },
  "kernelspec": {
   "display_name": "Python 3.9.7 ('torch-ready')",
   "language": "python",
   "name": "python3"
  },
  "language_info": {
   "codemirror_mode": {
    "name": "ipython",
    "version": 3
   },
   "file_extension": ".py",
   "mimetype": "text/x-python",
   "name": "python",
   "nbconvert_exporter": "python",
   "pygments_lexer": "ipython3",
   "version": "3.9.7"
  },
  "orig_nbformat": 4
 },
 "nbformat": 4,
 "nbformat_minor": 2
}
